{
 "cells": [
  {
   "cell_type": "code",
   "execution_count": 1,
   "metadata": {},
   "outputs": [],
   "source": [
    "import os\n",
    "path = '/root/ytx/mmpretrain/data'\n",
    "os.chdir(path)"
   ]
  },
  {
   "cell_type": "code",
   "execution_count": 2,
   "metadata": {},
   "outputs": [],
   "source": [
    "import os\n",
    "import random\n",
    "import shutil"
   ]
  },
  {
   "cell_type": "code",
   "execution_count": 3,
   "metadata": {},
   "outputs": [],
   "source": [
    "original_dataset_path = 'fruit30_train_origin/'\n",
    "train_path = 'fruit30_train/training_set'\n",
    "val_path = 'fruit30_train/val_set'\n",
    "# test_path = 'fruit30_train/test_set'"
   ]
  },
  {
   "cell_type": "code",
   "execution_count": 4,
   "metadata": {},
   "outputs": [],
   "source": [
    "train_percentage = 0.8\n",
    "val_percentage = 0.2"
   ]
  },
  {
   "cell_type": "code",
   "execution_count": 5,
   "metadata": {},
   "outputs": [],
   "source": [
    "# Get the list of all classes in the original dataset directory\n",
    "classes = os.listdir(original_dataset_path)"
   ]
  },
  {
   "cell_type": "code",
   "execution_count": 6,
   "metadata": {},
   "outputs": [],
   "source": [
    "# Loop through each class and split its images into train,\n",
    "# validation, and test sets\n",
    "for class_name in classes:\n",
    "    class_dir = os.path.join(original_dataset_path, class_name)\n",
    "    images = os.listdir(class_dir)\n",
    "    random.shuffle(images)\n",
    "\n",
    "    # Split the images into train, validation\n",
    "    train_size = int(train_percentage * len(images))\n",
    "    val_size = len(images) - train_size\n",
    "\n",
    "    train_images = images[:train_size] \n",
    "    val_images = images[train_size:]\n",
    "\n",
    "    # Create directories for the train, validation\n",
    "    train_dir = os.path.join(train_path, class_name)\n",
    "    os.makedirs(train_dir, exist_ok=True)\n",
    "    val_dir = os.path.join(val_path, class_name)\n",
    "    os.makedirs(val_dir, exist_ok=True)\n",
    "\n",
    "    # Copy the images to the train, validation derectories\n",
    "    for image in train_images:\n",
    "        src = os.path.join(class_dir, image)\n",
    "        dst = os.path.join(train_dir, image)\n",
    "        shutil.copyfile(src, dst)\n",
    "    \n",
    "    for image in val_images:\n",
    "        src = os.path.join(class_dir, image)\n",
    "        dst = os.path.join(val_dir, image)\n",
    "        shutil.copyfile(src, dst)\n",
    "\n",
    "\n"
   ]
  },
  {
   "cell_type": "code",
   "execution_count": null,
   "metadata": {},
   "outputs": [],
   "source": []
  }
 ],
 "metadata": {
  "kernelspec": {
   "display_name": "to37",
   "language": "python",
   "name": "python3"
  },
  "language_info": {
   "codemirror_mode": {
    "name": "ipython",
    "version": 3
   },
   "file_extension": ".py",
   "mimetype": "text/x-python",
   "name": "python",
   "nbconvert_exporter": "python",
   "pygments_lexer": "ipython3",
   "version": "3.7.16"
  },
  "orig_nbformat": 4
 },
 "nbformat": 4,
 "nbformat_minor": 2
}
